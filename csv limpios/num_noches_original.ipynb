{
 "cells": [
  {
   "cell_type": "code",
   "execution_count": 1,
   "id": "93183821",
   "metadata": {},
   "outputs": [],
   "source": [
    "import pandas as pd"
   ]
  },
  {
   "cell_type": "code",
   "execution_count": 6,
   "id": "851b9026",
   "metadata": {},
   "outputs": [
    {
     "data": {
      "text/html": [
       "<div>\n",
       "<style scoped>\n",
       "    .dataframe tbody tr th:only-of-type {\n",
       "        vertical-align: middle;\n",
       "    }\n",
       "\n",
       "    .dataframe tbody tr th {\n",
       "        vertical-align: top;\n",
       "    }\n",
       "\n",
       "    .dataframe thead th {\n",
       "        text-align: right;\n",
       "    }\n",
       "</style>\n",
       "<table border=\"1\" class=\"dataframe\">\n",
       "  <thead>\n",
       "    <tr style=\"text-align: right;\">\n",
       "      <th></th>\n",
       "      <th>Duración del viaje</th>\n",
       "      <th>Periodo</th>\n",
       "      <th>Total</th>\n",
       "    </tr>\n",
       "  </thead>\n",
       "  <tbody>\n",
       "    <tr>\n",
       "      <th>0</th>\n",
       "      <td>Ninguna noche</td>\n",
       "      <td>2020M12</td>\n",
       "      <td>17.476.868,00</td>\n",
       "    </tr>\n",
       "    <tr>\n",
       "      <th>1</th>\n",
       "      <td>1 noche</td>\n",
       "      <td>2020M12</td>\n",
       "      <td>1.307.881,00</td>\n",
       "    </tr>\n",
       "    <tr>\n",
       "      <th>2</th>\n",
       "      <td>De 2 a 3 noches</td>\n",
       "      <td>2020M12</td>\n",
       "      <td>3.283.671,00</td>\n",
       "    </tr>\n",
       "    <tr>\n",
       "      <th>3</th>\n",
       "      <td>De 4 a 7 noches</td>\n",
       "      <td>2020M12</td>\n",
       "      <td>8.251.087,00</td>\n",
       "    </tr>\n",
       "    <tr>\n",
       "      <th>4</th>\n",
       "      <td>De 8 a 15 noches</td>\n",
       "      <td>2020M12</td>\n",
       "      <td>4.125.222,00</td>\n",
       "    </tr>\n",
       "    <tr>\n",
       "      <th>...</th>\n",
       "      <td>...</td>\n",
       "      <td>...</td>\n",
       "      <td>...</td>\n",
       "    </tr>\n",
       "    <tr>\n",
       "      <th>373</th>\n",
       "      <td>1 noche</td>\n",
       "      <td>2015M10</td>\n",
       "      <td>NaN</td>\n",
       "    </tr>\n",
       "    <tr>\n",
       "      <th>374</th>\n",
       "      <td>De 2 a 3 noches</td>\n",
       "      <td>2015M10</td>\n",
       "      <td>NaN</td>\n",
       "    </tr>\n",
       "    <tr>\n",
       "      <th>375</th>\n",
       "      <td>De 4 a 7 noches</td>\n",
       "      <td>2015M10</td>\n",
       "      <td>NaN</td>\n",
       "    </tr>\n",
       "    <tr>\n",
       "      <th>376</th>\n",
       "      <td>De 8 a 15 noches</td>\n",
       "      <td>2015M10</td>\n",
       "      <td>NaN</td>\n",
       "    </tr>\n",
       "    <tr>\n",
       "      <th>377</th>\n",
       "      <td>Más de 15 noches</td>\n",
       "      <td>2015M10</td>\n",
       "      <td>NaN</td>\n",
       "    </tr>\n",
       "  </tbody>\n",
       "</table>\n",
       "<p>378 rows × 3 columns</p>\n",
       "</div>"
      ],
      "text/plain": [
       "    Duración del viaje  Periodo          Total\n",
       "0        Ninguna noche  2020M12  17.476.868,00\n",
       "1              1 noche  2020M12   1.307.881,00\n",
       "2      De 2 a 3 noches  2020M12   3.283.671,00\n",
       "3      De 4 a 7 noches  2020M12   8.251.087,00\n",
       "4     De 8 a 15 noches  2020M12   4.125.222,00\n",
       "..                 ...      ...            ...\n",
       "373            1 noche  2015M10            NaN\n",
       "374    De 2 a 3 noches  2015M10            NaN\n",
       "375    De 4 a 7 noches  2015M10            NaN\n",
       "376   De 8 a 15 noches  2015M10            NaN\n",
       "377   Más de 15 noches  2015M10            NaN\n",
       "\n",
       "[378 rows x 3 columns]"
      ]
     },
     "execution_count": 6,
     "metadata": {},
     "output_type": "execute_result"
    }
   ],
   "source": [
    "df = pd.read_csv(r'C:\\Users\\Usuario\\Desktop\\Ironhack\\proyect_educ_positive\\csv limpios\\num_noches_original.csv', sep=';', encoding='latin-1')\n",
    "df"
   ]
  },
  {
   "cell_type": "code",
   "execution_count": 9,
   "id": "e9238c40",
   "metadata": {},
   "outputs": [],
   "source": [
    "df.fillna(0, inplace=True)\n",
    "#df"
   ]
  },
  {
   "cell_type": "code",
   "execution_count": 10,
   "id": "41e6f2c4",
   "metadata": {},
   "outputs": [
    {
     "data": {
      "text/plain": [
       "<bound method NDFrame.head of     Duración del viaje  Periodo          Total   Año\n",
       "0        Ninguna noche  2020M12  17.476.868,00  2020\n",
       "1              1 noche  2020M12   1.307.881,00  2020\n",
       "2      De 2 a 3 noches  2020M12   3.283.671,00  2020\n",
       "3      De 4 a 7 noches  2020M12   8.251.087,00  2020\n",
       "4     De 8 a 15 noches  2020M12   4.125.222,00  2020\n",
       "..                 ...      ...            ...   ...\n",
       "373            1 noche  2015M10              0  2015\n",
       "374    De 2 a 3 noches  2015M10              0  2015\n",
       "375    De 4 a 7 noches  2015M10              0  2015\n",
       "376   De 8 a 15 noches  2015M10              0  2015\n",
       "377   Más de 15 noches  2015M10              0  2015\n",
       "\n",
       "[378 rows x 4 columns]>"
      ]
     },
     "execution_count": 10,
     "metadata": {},
     "output_type": "execute_result"
    }
   ],
   "source": [
    "df['Año'] = df.iloc[:, 1].str[:4]\n",
    "df.head"
   ]
  },
  {
   "cell_type": "code",
   "execution_count": 11,
   "id": "eab2e7e6",
   "metadata": {},
   "outputs": [
    {
     "data": {
      "text/plain": [
       "<bound method NDFrame.head of     Duración del viaje  Periodo          Total   Año Meses\n",
       "0        Ninguna noche  2020M12  17.476.868,00  2020    12\n",
       "1              1 noche  2020M12   1.307.881,00  2020    12\n",
       "2      De 2 a 3 noches  2020M12   3.283.671,00  2020    12\n",
       "3      De 4 a 7 noches  2020M12   8.251.087,00  2020    12\n",
       "4     De 8 a 15 noches  2020M12   4.125.222,00  2020    12\n",
       "..                 ...      ...            ...   ...   ...\n",
       "373            1 noche  2015M10              0  2015    10\n",
       "374    De 2 a 3 noches  2015M10              0  2015    10\n",
       "375    De 4 a 7 noches  2015M10              0  2015    10\n",
       "376   De 8 a 15 noches  2015M10              0  2015    10\n",
       "377   Más de 15 noches  2015M10              0  2015    10\n",
       "\n",
       "[378 rows x 5 columns]>"
      ]
     },
     "execution_count": 11,
     "metadata": {},
     "output_type": "execute_result"
    }
   ],
   "source": [
    "df['Meses'] = df.iloc[:, 1].str[-2:]\n",
    "df.head"
   ]
  },
  {
   "cell_type": "code",
   "execution_count": 12,
   "id": "1847ab45",
   "metadata": {},
   "outputs": [
    {
     "data": {
      "text/plain": [
       "<bound method NDFrame.head of     Duración del viaje          Total   Año Meses\n",
       "0        Ninguna noche  17.476.868,00  2020    12\n",
       "1              1 noche   1.307.881,00  2020    12\n",
       "2      De 2 a 3 noches   3.283.671,00  2020    12\n",
       "3      De 4 a 7 noches   8.251.087,00  2020    12\n",
       "4     De 8 a 15 noches   4.125.222,00  2020    12\n",
       "..                 ...            ...   ...   ...\n",
       "373            1 noche              0  2015    10\n",
       "374    De 2 a 3 noches              0  2015    10\n",
       "375    De 4 a 7 noches              0  2015    10\n",
       "376   De 8 a 15 noches              0  2015    10\n",
       "377   Más de 15 noches              0  2015    10\n",
       "\n",
       "[378 rows x 4 columns]>"
      ]
     },
     "execution_count": 12,
     "metadata": {},
     "output_type": "execute_result"
    }
   ],
   "source": [
    "df = df.drop(df.columns[1], axis=1)\n",
    "df.head"
   ]
  },
  {
   "cell_type": "code",
   "execution_count": 13,
   "id": "18579eaa",
   "metadata": {},
   "outputs": [
    {
     "data": {
      "text/plain": [
       "<bound method NDFrame.head of     Duración del viaje          Total   Año Meses\n",
       "0        Ninguna noche  17.476.868,00  2020    12\n",
       "1              1 noche   1.307.881,00  2020    12\n",
       "2      De 2 a 3 noches   3.283.671,00  2020    12\n",
       "3      De 4 a 7 noches   8.251.087,00  2020    12\n",
       "4     De 8 a 15 noches   4.125.222,00  2020    12\n",
       "..                 ...            ...   ...   ...\n",
       "373            1 noche              0  2015    10\n",
       "374    De 2 a 3 noches              0  2015    10\n",
       "375    De 4 a 7 noches              0  2015    10\n",
       "376   De 8 a 15 noches              0  2015    10\n",
       "377   Más de 15 noches              0  2015    10\n",
       "\n",
       "[378 rows x 4 columns]>"
      ]
     },
     "execution_count": 13,
     "metadata": {},
     "output_type": "execute_result"
    }
   ],
   "source": [
    "df.fillna('0', inplace=True)\n",
    "df.head"
   ]
  },
  {
   "cell_type": "code",
   "execution_count": 15,
   "id": "b9b1aedc",
   "metadata": {},
   "outputs": [
    {
     "data": {
      "text/html": [
       "<div>\n",
       "<style scoped>\n",
       "    .dataframe tbody tr th:only-of-type {\n",
       "        vertical-align: middle;\n",
       "    }\n",
       "\n",
       "    .dataframe tbody tr th {\n",
       "        vertical-align: top;\n",
       "    }\n",
       "\n",
       "    .dataframe thead th {\n",
       "        text-align: right;\n",
       "    }\n",
       "</style>\n",
       "<table border=\"1\" class=\"dataframe\">\n",
       "  <thead>\n",
       "    <tr style=\"text-align: right;\">\n",
       "      <th></th>\n",
       "      <th>Duración del viaje</th>\n",
       "      <th>Total</th>\n",
       "      <th>Año</th>\n",
       "      <th>Meses</th>\n",
       "    </tr>\n",
       "  </thead>\n",
       "  <tbody>\n",
       "    <tr>\n",
       "      <th>0</th>\n",
       "      <td>Ninguna noche</td>\n",
       "      <td>17.476.868,00</td>\n",
       "      <td>2020</td>\n",
       "      <td>12</td>\n",
       "    </tr>\n",
       "    <tr>\n",
       "      <th>1</th>\n",
       "      <td>1 noche</td>\n",
       "      <td>1.307.881,00</td>\n",
       "      <td>2020</td>\n",
       "      <td>12</td>\n",
       "    </tr>\n",
       "    <tr>\n",
       "      <th>2</th>\n",
       "      <td>De 2 a 3 noches</td>\n",
       "      <td>3.283.671,00</td>\n",
       "      <td>2020</td>\n",
       "      <td>12</td>\n",
       "    </tr>\n",
       "    <tr>\n",
       "      <th>3</th>\n",
       "      <td>De 4 a 7 noches</td>\n",
       "      <td>8.251.087,00</td>\n",
       "      <td>2020</td>\n",
       "      <td>12</td>\n",
       "    </tr>\n",
       "    <tr>\n",
       "      <th>4</th>\n",
       "      <td>De 8 a 15 noches</td>\n",
       "      <td>4.125.222,00</td>\n",
       "      <td>2020</td>\n",
       "      <td>12</td>\n",
       "    </tr>\n",
       "    <tr>\n",
       "      <th>...</th>\n",
       "      <td>...</td>\n",
       "      <td>...</td>\n",
       "      <td>...</td>\n",
       "      <td>...</td>\n",
       "    </tr>\n",
       "    <tr>\n",
       "      <th>373</th>\n",
       "      <td>1 noche</td>\n",
       "      <td>0</td>\n",
       "      <td>2015</td>\n",
       "      <td>10</td>\n",
       "    </tr>\n",
       "    <tr>\n",
       "      <th>374</th>\n",
       "      <td>De 2 a 3 noches</td>\n",
       "      <td>0</td>\n",
       "      <td>2015</td>\n",
       "      <td>10</td>\n",
       "    </tr>\n",
       "    <tr>\n",
       "      <th>375</th>\n",
       "      <td>De 4 a 7 noches</td>\n",
       "      <td>0</td>\n",
       "      <td>2015</td>\n",
       "      <td>10</td>\n",
       "    </tr>\n",
       "    <tr>\n",
       "      <th>376</th>\n",
       "      <td>De 8 a 15 noches</td>\n",
       "      <td>0</td>\n",
       "      <td>2015</td>\n",
       "      <td>10</td>\n",
       "    </tr>\n",
       "    <tr>\n",
       "      <th>377</th>\n",
       "      <td>Más de 15 noches</td>\n",
       "      <td>0</td>\n",
       "      <td>2015</td>\n",
       "      <td>10</td>\n",
       "    </tr>\n",
       "  </tbody>\n",
       "</table>\n",
       "<p>378 rows × 4 columns</p>\n",
       "</div>"
      ],
      "text/plain": [
       "    Duración del viaje          Total   Año Meses\n",
       "0        Ninguna noche  17.476.868,00  2020    12\n",
       "1              1 noche   1.307.881,00  2020    12\n",
       "2      De 2 a 3 noches   3.283.671,00  2020    12\n",
       "3      De 4 a 7 noches   8.251.087,00  2020    12\n",
       "4     De 8 a 15 noches   4.125.222,00  2020    12\n",
       "..                 ...            ...   ...   ...\n",
       "373            1 noche              0  2015    10\n",
       "374    De 2 a 3 noches              0  2015    10\n",
       "375    De 4 a 7 noches              0  2015    10\n",
       "376   De 8 a 15 noches              0  2015    10\n",
       "377   Más de 15 noches              0  2015    10\n",
       "\n",
       "[378 rows x 4 columns]"
      ]
     },
     "execution_count": 15,
     "metadata": {},
     "output_type": "execute_result"
    }
   ],
   "source": [
    "df.to_csv('num_noches_csv.csv', index=False)\n",
    "df"
   ]
  },
  {
   "cell_type": "code",
   "execution_count": null,
   "id": "2f625ec4",
   "metadata": {},
   "outputs": [],
   "source": []
  }
 ],
 "metadata": {
  "kernelspec": {
   "display_name": "Python 3 (ipykernel)",
   "language": "python",
   "name": "python3"
  },
  "language_info": {
   "codemirror_mode": {
    "name": "ipython",
    "version": 3
   },
   "file_extension": ".py",
   "mimetype": "text/x-python",
   "name": "python",
   "nbconvert_exporter": "python",
   "pygments_lexer": "ipython3",
   "version": "3.10.9"
  }
 },
 "nbformat": 4,
 "nbformat_minor": 5
}
