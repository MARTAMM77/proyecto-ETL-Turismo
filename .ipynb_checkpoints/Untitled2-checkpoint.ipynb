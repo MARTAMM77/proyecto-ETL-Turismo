{
 "cells": [
  {
   "cell_type": "code",
   "execution_count": null,
   "id": "5825dd98",
   "metadata": {},
   "outputs": [],
   "source": [
    "import requests\n",
    "from bs4 import BeautifulSoup"
   ]
  },
  {
   "cell_type": "code",
   "execution_count": null,
   "id": "c4445c2c",
   "metadata": {},
   "outputs": [],
   "source": [
    "pip install --upgrade selenium"
   ]
  },
  {
   "cell_type": "code",
   "execution_count": null,
   "id": "c3a25fc2",
   "metadata": {},
   "outputs": [],
   "source": [
    "from selenium import webdriver\n",
    "from selenium.webdriver.chrome.options import Options\n",
    "\n",
    "# Ruta del controlador de Chrome\n",
    "PATH = 'driver/chromedriver'\n",
    "\n",
    "# Opciones del navegador\n",
    "options = Options()\n",
    "options.add_argument('--headless')  # Ejecutar en modo \"headless\" (sin interfaz gráfica)\n",
    "\n",
    "# Inicializar el controlador de Selenium con las opciones\n",
    "driver = webdriver.Chrome(PATH, options=options)\n",
    "\n",
    "# Cargar la página web\n",
    "url = \"https://app.powerbi.com/view?r=eyJrIjoiY2YwNzgxNDctZDNmYi00Yzg5LTgzZDYtNmRlNGZkYjc3MGIzIiwidCI6IjJkM2I1MGUwLTZlZjQtNGViYy05MjQ2LTdkMWNiYjc3MDg5YyIsImMiOjh9\"\n",
    "\n",
    "# Acceder a la URL específica\n",
    "driver.get(url)\n",
    "\n",
    "# Extraer el contenido deseado\n",
    "elementos = driver.find_elements_by_xpath('//*[@id=\"pvExplorationHost\"]/div/div/exploration/div/explore-canvas/div/div[2]/div/div[2]/div[2]/visual-container-repeat/visual-container[6]/transform/div/div[2]/div/visual-modern/div/div/div[2]/div[1]/div[2]/div')\n",
    "for elemento in elementos:\n",
    "    texto = elemento.text\n",
    "    print(texto)\n",
    "\n",
    "# Cerrar el controlador de Selenium\n",
    "driver.quit()\n",
    "\n",
    "\n"
   ]
  },
  {
   "cell_type": "code",
   "execution_count": null,
   "id": "cd58747e",
   "metadata": {},
   "outputs": [],
   "source": []
  },
  {
   "cell_type": "code",
   "execution_count": null,
   "id": "dff64131",
   "metadata": {},
   "outputs": [],
   "source": []
  },
  {
   "cell_type": "code",
   "execution_count": null,
   "id": "9b5bb9bd",
   "metadata": {},
   "outputs": [],
   "source": []
  },
  {
   "cell_type": "code",
   "execution_count": null,
   "id": "8e28e1f9",
   "metadata": {},
   "outputs": [],
   "source": []
  }
 ],
 "metadata": {
  "kernelspec": {
   "display_name": "Python 3 (ipykernel)",
   "language": "python",
   "name": "python3"
  },
  "language_info": {
   "codemirror_mode": {
    "name": "ipython",
    "version": 3
   },
   "file_extension": ".py",
   "mimetype": "text/x-python",
   "name": "python",
   "nbconvert_exporter": "python",
   "pygments_lexer": "ipython3",
   "version": "3.10.9"
  }
 },
 "nbformat": 4,
 "nbformat_minor": 5
}
