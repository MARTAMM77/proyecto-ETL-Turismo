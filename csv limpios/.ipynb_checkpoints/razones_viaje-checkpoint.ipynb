{
 "cells": [
  {
   "cell_type": "code",
   "execution_count": 1,
   "id": "9cbd0d1f",
   "metadata": {
    "scrolled": true
   },
   "outputs": [
    {
     "data": {
      "text/html": [
       "<div>\n",
       "<style scoped>\n",
       "    .dataframe tbody tr th:only-of-type {\n",
       "        vertical-align: middle;\n",
       "    }\n",
       "\n",
       "    .dataframe tbody tr th {\n",
       "        vertical-align: top;\n",
       "    }\n",
       "\n",
       "    .dataframe thead th {\n",
       "        text-align: right;\n",
       "    }\n",
       "</style>\n",
       "<table border=\"1\" class=\"dataframe\">\n",
       "  <thead>\n",
       "    <tr style=\"text-align: right;\">\n",
       "      <th></th>\n",
       "      <th>Motivo del viaje</th>\n",
       "      <th>Periodo</th>\n",
       "      <th>Total</th>\n",
       "    </tr>\n",
       "  </thead>\n",
       "  <tbody>\n",
       "    <tr>\n",
       "      <th>0</th>\n",
       "      <td>Ocio, recreo y vacaciones</td>\n",
       "      <td>2020M12</td>\n",
       "      <td>15.533.526,00</td>\n",
       "    </tr>\n",
       "    <tr>\n",
       "      <th>1</th>\n",
       "      <td>Ocio, recreo y vacaciones</td>\n",
       "      <td>2020M11</td>\n",
       "      <td>15.148.112,00</td>\n",
       "    </tr>\n",
       "    <tr>\n",
       "      <th>2</th>\n",
       "      <td>Ocio, recreo y vacaciones</td>\n",
       "      <td>2020M10</td>\n",
       "      <td>14.852.465,00</td>\n",
       "    </tr>\n",
       "    <tr>\n",
       "      <th>3</th>\n",
       "      <td>Ocio, recreo y vacaciones</td>\n",
       "      <td>2020M09</td>\n",
       "      <td>14.051.513,00</td>\n",
       "    </tr>\n",
       "    <tr>\n",
       "      <th>4</th>\n",
       "      <td>Ocio, recreo y vacaciones</td>\n",
       "      <td>2020M08</td>\n",
       "      <td>13.148.925,00</td>\n",
       "    </tr>\n",
       "    <tr>\n",
       "      <th>...</th>\n",
       "      <td>...</td>\n",
       "      <td>...</td>\n",
       "      <td>...</td>\n",
       "    </tr>\n",
       "    <tr>\n",
       "      <th>184</th>\n",
       "      <td>Otros motivos</td>\n",
       "      <td>2016M02</td>\n",
       "      <td>930.065,00</td>\n",
       "    </tr>\n",
       "    <tr>\n",
       "      <th>185</th>\n",
       "      <td>Otros motivos</td>\n",
       "      <td>2016M01</td>\n",
       "      <td>506.662,00</td>\n",
       "    </tr>\n",
       "    <tr>\n",
       "      <th>186</th>\n",
       "      <td>Otros motivos</td>\n",
       "      <td>2015M12</td>\n",
       "      <td>NaN</td>\n",
       "    </tr>\n",
       "    <tr>\n",
       "      <th>187</th>\n",
       "      <td>Otros motivos</td>\n",
       "      <td>2015M11</td>\n",
       "      <td>NaN</td>\n",
       "    </tr>\n",
       "    <tr>\n",
       "      <th>188</th>\n",
       "      <td>Otros motivos</td>\n",
       "      <td>2015M10</td>\n",
       "      <td>NaN</td>\n",
       "    </tr>\n",
       "  </tbody>\n",
       "</table>\n",
       "<p>189 rows × 3 columns</p>\n",
       "</div>"
      ],
      "text/plain": [
       "              Motivo del viaje  Periodo          Total\n",
       "0    Ocio, recreo y vacaciones  2020M12  15.533.526,00\n",
       "1    Ocio, recreo y vacaciones  2020M11  15.148.112,00\n",
       "2    Ocio, recreo y vacaciones  2020M10  14.852.465,00\n",
       "3    Ocio, recreo y vacaciones  2020M09  14.051.513,00\n",
       "4    Ocio, recreo y vacaciones  2020M08  13.148.925,00\n",
       "..                         ...      ...            ...\n",
       "184              Otros motivos  2016M02     930.065,00\n",
       "185              Otros motivos  2016M01     506.662,00\n",
       "186              Otros motivos  2015M12            NaN\n",
       "187              Otros motivos  2015M11            NaN\n",
       "188              Otros motivos  2015M10            NaN\n",
       "\n",
       "[189 rows x 3 columns]"
      ]
     },
     "execution_count": 1,
     "metadata": {},
     "output_type": "execute_result"
    }
   ],
   "source": [
    "import pandas as pd\n",
    "\n",
    "#df = pd.read_csv(r'C:\\Users\\Usuario\\Desktop\\Ironhack\\proyect_educ_positive\\csv limpios\\razones_viaje.csv')\n",
    "\n",
    "#df\n",
    "\n",
    "df = pd.read_csv(r'C:\\Users\\Usuario\\Desktop\\Ironhack\\proyect_educ_positive\\csv limpios\\razones_viaje.csv', sep=\";\")\n",
    "\n",
    "df\n"
   ]
  },
  {
   "cell_type": "code",
   "execution_count": 2,
   "id": "ee0ce23b",
   "metadata": {},
   "outputs": [
    {
     "data": {
      "text/plain": [
       "(189, 3)"
      ]
     },
     "execution_count": 2,
     "metadata": {},
     "output_type": "execute_result"
    }
   ],
   "source": [
    "df.shape"
   ]
  },
  {
   "cell_type": "code",
   "execution_count": 3,
   "id": "e5674c7f",
   "metadata": {},
   "outputs": [
    {
     "data": {
      "text/plain": [
       "Index(['Motivo del viaje', 'Periodo', 'Total'], dtype='object')"
      ]
     },
     "execution_count": 3,
     "metadata": {},
     "output_type": "execute_result"
    }
   ],
   "source": [
    "df.columns"
   ]
  },
  {
   "cell_type": "code",
   "execution_count": 4,
   "id": "cca13922",
   "metadata": {},
   "outputs": [
    {
     "data": {
      "text/plain": [
       "(180, 3)"
      ]
     },
     "execution_count": 4,
     "metadata": {},
     "output_type": "execute_result"
    }
   ],
   "source": [
    "df = df.dropna()\n",
    "df.shape"
   ]
  },
  {
   "cell_type": "code",
   "execution_count": 6,
   "id": "e4c2b570",
   "metadata": {},
   "outputs": [
    {
     "name": "stderr",
     "output_type": "stream",
     "text": [
      "C:\\Users\\Usuario\\AppData\\Local\\Temp\\ipykernel_6792\\1009849584.py:1: SettingWithCopyWarning: \n",
      "A value is trying to be set on a copy of a slice from a DataFrame.\n",
      "Try using .loc[row_indexer,col_indexer] = value instead\n",
      "\n",
      "See the caveats in the documentation: https://pandas.pydata.org/pandas-docs/stable/user_guide/indexing.html#returning-a-view-versus-a-copy\n",
      "  df['Año'] = df.iloc[:, 1].str[:4]\n"
     ]
    },
    {
     "data": {
      "text/plain": [
       "<bound method NDFrame.head of               Motivo del viaje  Periodo          Total   Año\n",
       "0    Ocio, recreo y vacaciones  2020M12  15.533.526,00  2020\n",
       "1    Ocio, recreo y vacaciones  2020M11  15.148.112,00  2020\n",
       "2    Ocio, recreo y vacaciones  2020M10  14.852.465,00  2020\n",
       "3    Ocio, recreo y vacaciones  2020M09  14.051.513,00  2020\n",
       "4    Ocio, recreo y vacaciones  2020M08  13.148.925,00  2020\n",
       "..                         ...      ...            ...   ...\n",
       "181              Otros motivos  2016M05   2.682.802,00  2016\n",
       "182              Otros motivos  2016M04   2.128.566,00  2016\n",
       "183              Otros motivos  2016M03   1.422.453,00  2016\n",
       "184              Otros motivos  2016M02     930.065,00  2016\n",
       "185              Otros motivos  2016M01     506.662,00  2016\n",
       "\n",
       "[180 rows x 4 columns]>"
      ]
     },
     "execution_count": 6,
     "metadata": {},
     "output_type": "execute_result"
    }
   ],
   "source": [
    "df['Año'] = df.iloc[:, 1].str[:4]\n",
    "df.head"
   ]
  },
  {
   "cell_type": "code",
   "execution_count": 8,
   "id": "bc4a3e5c",
   "metadata": {},
   "outputs": [
    {
     "name": "stderr",
     "output_type": "stream",
     "text": [
      "C:\\Users\\Usuario\\AppData\\Local\\Temp\\ipykernel_6792\\3687722988.py:1: SettingWithCopyWarning: \n",
      "A value is trying to be set on a copy of a slice from a DataFrame.\n",
      "Try using .loc[row_indexer,col_indexer] = value instead\n",
      "\n",
      "See the caveats in the documentation: https://pandas.pydata.org/pandas-docs/stable/user_guide/indexing.html#returning-a-view-versus-a-copy\n",
      "  df['Meses'] = df.iloc[:, 1].str[-2:]\n"
     ]
    },
    {
     "data": {
      "text/plain": [
       "<bound method NDFrame.head of               Motivo del viaje  Periodo          Total   Año Meses\n",
       "0    Ocio, recreo y vacaciones  2020M12  15.533.526,00  2020    12\n",
       "1    Ocio, recreo y vacaciones  2020M11  15.148.112,00  2020    11\n",
       "2    Ocio, recreo y vacaciones  2020M10  14.852.465,00  2020    10\n",
       "3    Ocio, recreo y vacaciones  2020M09  14.051.513,00  2020    09\n",
       "4    Ocio, recreo y vacaciones  2020M08  13.148.925,00  2020    08\n",
       "..                         ...      ...            ...   ...   ...\n",
       "181              Otros motivos  2016M05   2.682.802,00  2016    05\n",
       "182              Otros motivos  2016M04   2.128.566,00  2016    04\n",
       "183              Otros motivos  2016M03   1.422.453,00  2016    03\n",
       "184              Otros motivos  2016M02     930.065,00  2016    02\n",
       "185              Otros motivos  2016M01     506.662,00  2016    01\n",
       "\n",
       "[180 rows x 5 columns]>"
      ]
     },
     "execution_count": 8,
     "metadata": {},
     "output_type": "execute_result"
    }
   ],
   "source": [
    "df['Meses'] = df.iloc[:, 1].str[-2:]\n",
    "df.head"
   ]
  },
  {
   "cell_type": "code",
   "execution_count": 9,
   "id": "3062a764",
   "metadata": {},
   "outputs": [
    {
     "data": {
      "text/plain": [
       "<bound method NDFrame.head of               Motivo del viaje          Total   Año Meses\n",
       "0    Ocio, recreo y vacaciones  15.533.526,00  2020    12\n",
       "1    Ocio, recreo y vacaciones  15.148.112,00  2020    11\n",
       "2    Ocio, recreo y vacaciones  14.852.465,00  2020    10\n",
       "3    Ocio, recreo y vacaciones  14.051.513,00  2020    09\n",
       "4    Ocio, recreo y vacaciones  13.148.925,00  2020    08\n",
       "..                         ...            ...   ...   ...\n",
       "181              Otros motivos   2.682.802,00  2016    05\n",
       "182              Otros motivos   2.128.566,00  2016    04\n",
       "183              Otros motivos   1.422.453,00  2016    03\n",
       "184              Otros motivos     930.065,00  2016    02\n",
       "185              Otros motivos     506.662,00  2016    01\n",
       "\n",
       "[180 rows x 4 columns]>"
      ]
     },
     "execution_count": 9,
     "metadata": {},
     "output_type": "execute_result"
    }
   ],
   "source": [
    "df = df.drop(df.columns[1], axis=1)\n",
    "df.head"
   ]
  },
  {
   "cell_type": "code",
   "execution_count": 11,
   "id": "4058751f",
   "metadata": {},
   "outputs": [
    {
     "data": {
      "text/plain": [
       "<bound method NDFrame.head of               Motivo del viaje          Total   Año Meses\n",
       "0    Ocio, recreo y vacaciones  15.533.526,00  2020    12\n",
       "1    Ocio, recreo y vacaciones  15.148.112,00  2020    11\n",
       "2    Ocio, recreo y vacaciones  14.852.465,00  2020    10\n",
       "3    Ocio, recreo y vacaciones  14.051.513,00  2020    09\n",
       "4    Ocio, recreo y vacaciones  13.148.925,00  2020    08\n",
       "..                         ...            ...   ...   ...\n",
       "181              Otros motivos   2.682.802,00  2016    05\n",
       "182              Otros motivos   2.128.566,00  2016    04\n",
       "183              Otros motivos   1.422.453,00  2016    03\n",
       "184              Otros motivos     930.065,00  2016    02\n",
       "185              Otros motivos     506.662,00  2016    01\n",
       "\n",
       "[180 rows x 4 columns]>"
      ]
     },
     "execution_count": 11,
     "metadata": {},
     "output_type": "execute_result"
    }
   ],
   "source": [
    "df.fillna('0', inplace=True)\n",
    "df.head"
   ]
  },
  {
   "cell_type": "code",
   "execution_count": 12,
   "id": "f32c6c2b",
   "metadata": {},
   "outputs": [],
   "source": [
    "df.to_csv('razones_viaje.csv', index=False)"
   ]
  },
  {
   "cell_type": "code",
   "execution_count": null,
   "id": "c6d7e9ba",
   "metadata": {},
   "outputs": [],
   "source": []
  }
 ],
 "metadata": {
  "kernelspec": {
   "display_name": "Python 3 (ipykernel)",
   "language": "python",
   "name": "python3"
  },
  "language_info": {
   "codemirror_mode": {
    "name": "ipython",
    "version": 3
   },
   "file_extension": ".py",
   "mimetype": "text/x-python",
   "name": "python",
   "nbconvert_exporter": "python",
   "pygments_lexer": "ipython3",
   "version": "3.10.9"
  }
 },
 "nbformat": 4,
 "nbformat_minor": 5
}
