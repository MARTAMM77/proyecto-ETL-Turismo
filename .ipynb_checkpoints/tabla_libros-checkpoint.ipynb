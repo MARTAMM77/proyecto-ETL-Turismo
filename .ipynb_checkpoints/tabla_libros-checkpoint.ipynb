{
 "cells": [
  {
   "cell_type": "code",
   "execution_count": 1,
   "id": "79beb43f",
   "metadata": {},
   "outputs": [
    {
     "name": "stdout",
     "output_type": "stream",
     "text": [
      "Requirement already satisfied: beautifulsoup4 in c:\\users\\usuario\\anaconda3\\lib\\site-packages (4.11.1)\n",
      "Requirement already satisfied: requests in c:\\users\\usuario\\anaconda3\\lib\\site-packages (2.28.1)\n",
      "Requirement already satisfied: soupsieve>1.2 in c:\\users\\usuario\\anaconda3\\lib\\site-packages (from beautifulsoup4) (2.3.2.post1)\n",
      "Requirement already satisfied: certifi>=2017.4.17 in c:\\users\\usuario\\anaconda3\\lib\\site-packages (from requests) (2022.12.7)\n",
      "Requirement already satisfied: urllib3<1.27,>=1.21.1 in c:\\users\\usuario\\anaconda3\\lib\\site-packages (from requests) (1.26.14)\n",
      "Requirement already satisfied: idna<4,>=2.5 in c:\\users\\usuario\\anaconda3\\lib\\site-packages (from requests) (3.4)\n",
      "Requirement already satisfied: charset-normalizer<3,>=2 in c:\\users\\usuario\\anaconda3\\lib\\site-packages (from requests) (2.0.4)\n"
     ]
    }
   ],
   "source": [
    "!pip install beautifulsoup4 requests"
   ]
  },
  {
   "cell_type": "code",
   "execution_count": 2,
   "id": "1234203d",
   "metadata": {},
   "outputs": [],
   "source": [
    "import requests\n",
    "from bs4 import BeautifulSoup"
   ]
  },
  {
   "cell_type": "code",
   "execution_count": 3,
   "id": "4622a7d1",
   "metadata": {},
   "outputs": [],
   "source": [
    "url = 'https://www.amazon.es/s?k=educaci%C3%B3n+positiva+en+la+disciplina+positiva&i=stripbooks&rh=n%3A599364031%2Cp_n_feature_browse-bin%3A15428535031%2Cp_72%3A831280031&dc&__mk_es_ES=%C3%85M%C3%85%C5%BD%C3%95%C3%91&crid=2GJO4HR1XZYT2&qid=1691159062&rnid=831271031&sprefix=educaci%C3%B3n+positiva+en+la+disciplina+positiva%2Caps%2C85&ref=sr_nr_p_72_1&ds=v1%3AM6LlXAbyFEGcNQMaC0rUlolZBBpQRwJ6hwNCGmJKiIo'\n",
    "\n",
    "response = requests.get(url)\n",
    "soup = BeautifulSoup(response.text, 'html.parser')"
   ]
  },
  {
   "cell_type": "code",
   "execution_count": 4,
   "id": "133c18b6",
   "metadata": {},
   "outputs": [],
   "source": [
    "book_names = soup.find_all('span', {'class': 'a-size-medium a-color-base a-text-normal'})\n",
    "\n",
    "# Imprime los nombres de los libros\n",
    "for book_name in book_names:\n",
    "    print(book_name.text)"
   ]
  },
  {
   "cell_type": "code",
   "execution_count": null,
   "id": "df94011a",
   "metadata": {},
   "outputs": [],
   "source": []
  }
 ],
 "metadata": {
  "kernelspec": {
   "display_name": "Python 3 (ipykernel)",
   "language": "python",
   "name": "python3"
  },
  "language_info": {
   "codemirror_mode": {
    "name": "ipython",
    "version": 3
   },
   "file_extension": ".py",
   "mimetype": "text/x-python",
   "name": "python",
   "nbconvert_exporter": "python",
   "pygments_lexer": "ipython3",
   "version": "3.10.9"
  }
 },
 "nbformat": 4,
 "nbformat_minor": 5
}
