{
 "cells": [
  {
   "cell_type": "code",
   "execution_count": 1,
   "id": "cdc7a3ca",
   "metadata": {},
   "outputs": [],
   "source": [
    "# importo las librerias necesarias\n",
    "import requests\n",
    "from bs4 import BeautifulSoup\n",
    "import pandas as pd"
   ]
  },
  {
   "cell_type": "code",
   "execution_count": null,
   "id": "42765448",
   "metadata": {},
   "outputs": [],
   "source": []
  },
  {
   "cell_type": "code",
   "execution_count": 2,
   "id": "b59ef1e0",
   "metadata": {},
   "outputs": [],
   "source": [
    "# This is the url we will scrape for countries list \n",
    "website = 'https://subslikescript.com/movie/Titanic-120338'\n",
    "result = requests.get(website)\n",
    "content = result.text"
   ]
  },
  {
   "cell_type": "code",
   "execution_count": 3,
   "id": "fbf0f0c2",
   "metadata": {},
   "outputs": [],
   "source": [
    "soup = BeautifulSoup(content, 'lxml')\n",
    "#print(soup.prettify()) imprime html"
   ]
  },
  {
   "cell_type": "code",
   "execution_count": 4,
   "id": "111acff5",
   "metadata": {},
   "outputs": [
    {
     "data": {
      "text/plain": [
       "'Titanic (1997) - full transcript'"
      ]
     },
     "execution_count": 4,
     "metadata": {},
     "output_type": "execute_result"
    }
   ],
   "source": [
    "box= soup.find('article', class_='main-article')\n",
    "soup.find('h1').get_text()"
   ]
  },
  {
   "cell_type": "code",
   "execution_count": 6,
   "id": "30e7fa05",
   "metadata": {},
   "outputs": [],
   "source": [
    "title = box.find('h1')\n",
    "if title is not None:\n",
    "    title = title.get_text()\n",
    "\n",
    "transcript = box.find('div', class_='full-script')\n",
    "if transcript is not None:\n",
    "    transcript = transcript.get_text(strip=True, separator='')\n",
    "\n",
    "if title is not None and transcript is not None:\n",
    "    with open(f'{title}.txt', 'w', encoding='utf-8') as file:\n",
    "        file.write(transcript)\n",
    "else:\n",
    "    print('No se encontró el título o el transcrito en el contenido analizado.')"
   ]
  },
  {
   "cell_type": "code",
   "execution_count": null,
   "id": "77f2553d",
   "metadata": {},
   "outputs": [],
   "source": []
  },
  {
   "cell_type": "code",
   "execution_count": null,
   "id": "a05c4525",
   "metadata": {},
   "outputs": [],
   "source": []
  }
 ],
 "metadata": {
  "kernelspec": {
   "display_name": "Python 3 (ipykernel)",
   "language": "python",
   "name": "python3"
  },
  "language_info": {
   "codemirror_mode": {
    "name": "ipython",
    "version": 3
   },
   "file_extension": ".py",
   "mimetype": "text/x-python",
   "name": "python",
   "nbconvert_exporter": "python",
   "pygments_lexer": "ipython3",
   "version": "3.10.9"
  }
 },
 "nbformat": 4,
 "nbformat_minor": 5
}
